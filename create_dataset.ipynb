{
 "cells": [
  {
   "cell_type": "code",
   "execution_count": 1,
   "metadata": {},
   "outputs": [],
   "source": [
    "import pandas as pd\n",
    "import numpy as np\n",
    "\n",
    "pd.set_option('display.max_columns', None)\n",
    "pd.set_option('display.max_rows', 100)\n"
   ]
  },
  {
   "cell_type": "code",
   "execution_count": 4,
   "metadata": {},
   "outputs": [],
   "source": [
    "measurables = pd.read_csv(\"data/Measurables.csv\")\n",
    "production = pd.read_csv(\"data/Production.csv\")"
   ]
  },
  {
   "cell_type": "code",
   "execution_count": 5,
   "metadata": {},
   "outputs": [],
   "source": [
    "'''\n",
    "Create Career NFL Production Ranking \n",
    "''' \n",
    "\n",
    "nfl_production = production.copy(deep=True)\n",
    "nfl_production['GP%'] = nfl_production['GamesPlayed']/(1*16)\n",
    "nfl_production['GS%'] = nfl_production['GamesStarted']/(1*16)\n",
    "nfl_production['PosPlay%'] = nfl_production['PositivePlays']/nfl_production['Plays']\n",
    "nfl_production['NegPlay%'] = nfl_production['NegativePlays']/nfl_production['Plays']\n",
    "nfl_production['NeutPlay%'] = (nfl_production['Plays'] - nfl_production['PositivePlays'] - nfl_production['NegativePlays'])/nfl_production['Plays']"
   ]
  },
  {
   "cell_type": "code",
   "execution_count": 6,
   "metadata": {},
   "outputs": [],
   "source": [
    "alpha_1 = 0.7\n",
    "alpha_2 = 0.3\n",
    "beta_1 = 2\n",
    "beta_2 = 0.3\n",
    "beta_3 = -2\n",
    "w1=0.2\n",
    "w2=0.8\n",
    "\n",
    "nfl_production['Season_Score'] = w1*(alpha_1*nfl_production['GP%'] + alpha_2*nfl_production['GS%']) + \\\n",
    "                            w2*(beta_1*nfl_production['PosPlay%'] + beta_2*nfl_production['NeutPlay%'] + beta_3*nfl_production['NegPlay%'])"
   ]
  },
  {
   "cell_type": "code",
   "execution_count": 37,
   "metadata": {},
   "outputs": [],
   "source": [
    "# save career rankings\n",
    "nfl_production.groupby(\"PlayerId\").sum().sort_values(\"Season_Score\", ascending=False)[['Season_Score']].to_csv(\"model_data/nfl_desirability.csv\")"
   ]
  },
  {
   "cell_type": "code",
   "execution_count": 39,
   "metadata": {},
   "outputs": [],
   "source": [
    "# calculate next season correlation\n",
    "df_sorted = nfl_production.sort_values(by=['PlayerId', 'Season'])\n",
    "df_sorted['Next_Season_Score'] = df_sorted.groupby(\"PlayerId\")['Season_Score'].shift(-1)\n",
    "df_sorted = df_sorted.dropna(axis=0)\n",
    "\n",
    "pairs = df_sorted.dropna(axis=0).loc[:,['Season_Score', 'Next_Season_Score']].to_numpy()"
   ]
  },
  {
   "cell_type": "code",
   "execution_count": 44,
   "metadata": {},
   "outputs": [],
   "source": [
    "df_sorted_clipped = df_sorted.groupby(\"PlayerId\").apply(lambda x : x.iloc[-4:])\n",
    "clipped_pairs = df_sorted_clipped.dropna(axis=0).loc[:,['Season_Score', 'Next_Season_Score']].to_numpy()"
   ]
  },
  {
   "cell_type": "code",
   "execution_count": 43,
   "metadata": {},
   "outputs": [
    {
     "name": "stdout",
     "output_type": "stream",
     "text": [
      "(4041, 14)\n",
      "(3494, 14)\n"
     ]
    }
   ],
   "source": [
    "print(df_sorted.shape)\n",
    "print(df_sorted_clipped.shape)"
   ]
  },
  {
   "cell_type": "code",
   "execution_count": 45,
   "metadata": {},
   "outputs": [
    {
     "data": {
      "text/plain": [
       "array([[1.        , 0.26273957],\n",
       "       [0.26273957, 1.        ]])"
      ]
     },
     "execution_count": 45,
     "metadata": {},
     "output_type": "execute_result"
    }
   ],
   "source": [
    "np.corrcoef(clipped_pairs[:,0],clipped_pairs[:,1])"
   ]
  },
  {
   "cell_type": "code",
   "execution_count": 40,
   "metadata": {},
   "outputs": [
    {
     "data": {
      "text/plain": [
       "array([[1.       , 0.2269327],\n",
       "       [0.2269327, 1.       ]])"
      ]
     },
     "execution_count": 40,
     "metadata": {},
     "output_type": "execute_result"
    }
   ],
   "source": [
    "np.corrcoef(pairs[:,0],pairs[:,1])"
   ]
  },
  {
   "cell_type": "code",
   "execution_count": null,
   "metadata": {},
   "outputs": [],
   "source": []
  },
  {
   "cell_type": "code",
   "execution_count": 2,
   "metadata": {},
   "outputs": [
    {
     "data": {
      "text/plain": [
       "' \\nCreate NFL Production Score\\n'"
      ]
     },
     "execution_count": 2,
     "metadata": {},
     "output_type": "execute_result"
    }
   ],
   "source": [
    "''' \n",
    "Create NFL Production Score (target for prospect model)\n",
    "'''"
   ]
  },
  {
   "cell_type": "code",
   "execution_count": 4,
   "metadata": {},
   "outputs": [],
   "source": [
    "trimmed_production = production.groupby(\"PlayerId\", group_keys=False).apply(lambda g : g.sort_values(\"Season\").head(4))\n",
    "final_production = pd.DataFrame(index=trimmed_production.PlayerId.unique())"
   ]
  },
  {
   "cell_type": "code",
   "execution_count": 5,
   "metadata": {},
   "outputs": [],
   "source": [
    "final_production['num_seasons'] = trimmed_production.groupby(\"PlayerId\").Season.count()\n",
    "# get all total values from production\n",
    "final_production = pd.merge(final_production, trimmed_production.groupby(\"PlayerId\").sum().drop(\"Season\", axis=1), left_index=True, right_index=True)"
   ]
  },
  {
   "cell_type": "code",
   "execution_count": 6,
   "metadata": {},
   "outputs": [],
   "source": [
    "final_production['GP%'] = final_production['GamesPlayed']/(final_production['num_seasons']*16)\n",
    "final_production['GS%'] = final_production['GamesStarted']/(final_production['num_seasons']*16)\n",
    "final_production['PosPlay%'] = final_production['PositivePlays']/final_production['Plays']\n",
    "final_production['NegPlay%'] = final_production['NegativePlays']/final_production['Plays']\n",
    "final_production['NeutPlay%'] = (final_production['Plays'] - final_production['PositivePlays'] - final_production['NegativePlays'])/final_production['Plays']"
   ]
  },
  {
   "cell_type": "code",
   "execution_count": 7,
   "metadata": {},
   "outputs": [],
   "source": [
    "alpha_1 = 0.7\n",
    "alpha_2 = 0.3\n",
    "beta_1 = 2\n",
    "beta_2 = 0.3\n",
    "beta_3 = -2\n",
    "w1=0.2\n",
    "w2=0.8\n",
    "\n",
    "final_production['Score'] = w1*(alpha_1*final_production['GP%'] + alpha_2*final_production['GS%']) + \\\n",
    "                            w2*(beta_1*final_production['PosPlay%'] + beta_2*final_production['NeutPlay%'] + beta_3*final_production['NegPlay%'])"
   ]
  },
  {
   "cell_type": "code",
   "execution_count": 8,
   "metadata": {},
   "outputs": [
    {
     "data": {
      "text/plain": [
       "'\\nClean/Engineer measurables/college data\\n'"
      ]
     },
     "execution_count": 8,
     "metadata": {},
     "output_type": "execute_result"
    }
   ],
   "source": [
    "'''\n",
    "Clean/Engineer measurables/college data\n",
    "'''"
   ]
  },
  {
   "cell_type": "code",
   "execution_count": 9,
   "metadata": {},
   "outputs": [],
   "source": [
    "measurables.set_index(\"PlayerId\",drop=True,inplace=True)\n",
    "\n",
    "positions_to_remove = ['ST', 'RS', 'NT', 'LS', 'PK', 'PT']\n",
    "cols_to_keep = ['ProPosition', 'Hgt', 'Wgt', 'Age', 'Forty', 'Arm', 'Hand', 'Wing', 'TenYard', 'TwentyYard',\n",
    "                'ThreeCone', 'VJ', 'BJ', 'TwentyShuttle', 'SixtyShuttle', 'BP', 'Test_Acc%', 'IndyInvite']\n",
    "\n",
    "measurables['Test_Acc%'] = (measurables.Test/measurables.TestAttempt).round(4)\n",
    "\n",
    "filtered_measurables = measurables.query(\"ProPosition not in @positions_to_remove\")\n",
    "filtered_measurables = filtered_measurables[cols_to_keep]\n"
   ]
  },
  {
   "cell_type": "code",
   "execution_count": 10,
   "metadata": {},
   "outputs": [],
   "source": [
    "dataset = pd.merge(final_production, filtered_measurables, how='left', right_index=True, left_index=True)"
   ]
  },
  {
   "cell_type": "code",
   "execution_count": 11,
   "metadata": {},
   "outputs": [],
   "source": [
    "dataset = dataset[~dataset.ProPosition.isna()]"
   ]
  },
  {
   "cell_type": "code",
   "execution_count": 12,
   "metadata": {},
   "outputs": [],
   "source": [
    "group_quantiles = dataset.groupby(\"ProPosition\").Score.quantile(0.7)"
   ]
  },
  {
   "cell_type": "code",
   "execution_count": 13,
   "metadata": {},
   "outputs": [],
   "source": [
    "def mark_success(group):\n",
    "    percentile_threshold = group_quantiles[group.ProPosition]\n",
    "    return (group['Score'] > percentile_threshold).astype(int)\n",
    "    #return group"
   ]
  },
  {
   "cell_type": "code",
   "execution_count": 14,
   "metadata": {},
   "outputs": [],
   "source": [
    "dataset['Success'] = dataset.apply(mark_success,axis=1)"
   ]
  },
  {
   "cell_type": "code",
   "execution_count": 15,
   "metadata": {},
   "outputs": [],
   "source": [
    "dataset = dataset.query(\"Plays > 50\")"
   ]
  },
  {
   "cell_type": "code",
   "execution_count": 16,
   "metadata": {},
   "outputs": [],
   "source": [
    "#dataset.to_csv(\"model_data/input_dataset.csv\")"
   ]
  },
  {
   "cell_type": "markdown",
   "metadata": {},
   "source": [
    "This is an artifact of the distribution of Positive Plays and Negative Plays - RBs have the highest percentage of positive plays (PosPlay%)."
   ]
  },
  {
   "cell_type": "code",
   "execution_count": 17,
   "metadata": {},
   "outputs": [],
   "source": [
    "list_of_val_players = [\n",
    "    82000,\n",
    "    10081, \n",
    "    63510,   # same as 10018 but fewer total plays\n",
    "    10018,   # not a lot of games started, but lot of positive plays\n",
    "    89301,   # close to even pos/neg ratio, but high GP & GS\n",
    "    28799,   # more games started, but worse positive/negative ratio\n",
    "    90244,   # low games started, slightly pos pos/neg ratio\n",
    "    68164,   # not a lot of games, not a lot of starts, more negative plays\n",
    "    20346   # lot of games played, high games started, more negative plays\n",
    "    ]"
   ]
  },
  {
   "cell_type": "code",
   "execution_count": 18,
   "metadata": {},
   "outputs": [
    {
     "data": {
      "text/html": [
       "<div>\n",
       "<style scoped>\n",
       "    .dataframe tbody tr th:only-of-type {\n",
       "        vertical-align: middle;\n",
       "    }\n",
       "\n",
       "    .dataframe tbody tr th {\n",
       "        vertical-align: top;\n",
       "    }\n",
       "\n",
       "    .dataframe thead th {\n",
       "        text-align: right;\n",
       "    }\n",
       "</style>\n",
       "<table border=\"1\" class=\"dataframe\">\n",
       "  <thead>\n",
       "    <tr style=\"text-align: right;\">\n",
       "      <th></th>\n",
       "      <th>num_seasons</th>\n",
       "      <th>GamesPlayed</th>\n",
       "      <th>GamesStarted</th>\n",
       "      <th>Plays</th>\n",
       "      <th>PositivePlays</th>\n",
       "      <th>NegativePlays</th>\n",
       "      <th>GP%</th>\n",
       "      <th>GS%</th>\n",
       "      <th>PosPlay%</th>\n",
       "      <th>NegPlay%</th>\n",
       "      <th>NeutPlay%</th>\n",
       "      <th>Score</th>\n",
       "      <th>ProPosition</th>\n",
       "      <th>Hgt</th>\n",
       "      <th>Wgt</th>\n",
       "      <th>Age</th>\n",
       "      <th>Forty</th>\n",
       "      <th>Arm</th>\n",
       "      <th>Hand</th>\n",
       "      <th>Wing</th>\n",
       "      <th>TenYard</th>\n",
       "      <th>TwentyYard</th>\n",
       "      <th>ThreeCone</th>\n",
       "      <th>VJ</th>\n",
       "      <th>BJ</th>\n",
       "      <th>TwentyShuttle</th>\n",
       "      <th>SixtyShuttle</th>\n",
       "      <th>BP</th>\n",
       "      <th>Test_Acc%</th>\n",
       "      <th>IndyInvite</th>\n",
       "      <th>Success</th>\n",
       "    </tr>\n",
       "  </thead>\n",
       "  <tbody>\n",
       "    <tr>\n",
       "      <th>82000</th>\n",
       "      <td>4</td>\n",
       "      <td>61</td>\n",
       "      <td>52</td>\n",
       "      <td>2927</td>\n",
       "      <td>169</td>\n",
       "      <td>57</td>\n",
       "      <td>0.953125</td>\n",
       "      <td>0.812500</td>\n",
       "      <td>0.057738</td>\n",
       "      <td>0.019474</td>\n",
       "      <td>0.922788</td>\n",
       "      <td>0.464880</td>\n",
       "      <td>WR</td>\n",
       "      <td>77.00</td>\n",
       "      <td>240.0</td>\n",
       "      <td>23.2</td>\n",
       "      <td>4.63</td>\n",
       "      <td>34.875</td>\n",
       "      <td>10.375</td>\n",
       "      <td>84.000</td>\n",
       "      <td>1.67</td>\n",
       "      <td>2.68</td>\n",
       "      <td>7.33</td>\n",
       "      <td>32.5</td>\n",
       "      <td>9.11</td>\n",
       "      <td>4.39</td>\n",
       "      <td>12.08</td>\n",
       "      <td>13.0</td>\n",
       "      <td>0.3333</td>\n",
       "      <td>Y</td>\n",
       "      <td>1</td>\n",
       "    </tr>\n",
       "    <tr>\n",
       "      <th>10081</th>\n",
       "      <td>4</td>\n",
       "      <td>52</td>\n",
       "      <td>48</td>\n",
       "      <td>1905</td>\n",
       "      <td>279</td>\n",
       "      <td>117</td>\n",
       "      <td>0.812500</td>\n",
       "      <td>0.750000</td>\n",
       "      <td>0.146457</td>\n",
       "      <td>0.061417</td>\n",
       "      <td>0.792126</td>\n",
       "      <td>0.484923</td>\n",
       "      <td>DT</td>\n",
       "      <td>75.88</td>\n",
       "      <td>336.0</td>\n",
       "      <td>21.3</td>\n",
       "      <td>5.28</td>\n",
       "      <td>33.125</td>\n",
       "      <td>10.125</td>\n",
       "      <td>79.625</td>\n",
       "      <td>1.90</td>\n",
       "      <td>3.03</td>\n",
       "      <td>7.62</td>\n",
       "      <td>24.5</td>\n",
       "      <td>NaN</td>\n",
       "      <td>4.82</td>\n",
       "      <td>NaN</td>\n",
       "      <td>19.0</td>\n",
       "      <td>0.9412</td>\n",
       "      <td>Y</td>\n",
       "      <td>1</td>\n",
       "    </tr>\n",
       "    <tr>\n",
       "      <th>63510</th>\n",
       "      <td>4</td>\n",
       "      <td>51</td>\n",
       "      <td>3</td>\n",
       "      <td>845</td>\n",
       "      <td>65</td>\n",
       "      <td>23</td>\n",
       "      <td>0.796875</td>\n",
       "      <td>0.046875</td>\n",
       "      <td>0.076923</td>\n",
       "      <td>0.027219</td>\n",
       "      <td>0.895858</td>\n",
       "      <td>0.408908</td>\n",
       "      <td>OLB</td>\n",
       "      <td>75.38</td>\n",
       "      <td>255.0</td>\n",
       "      <td>21.5</td>\n",
       "      <td>4.58</td>\n",
       "      <td>34.500</td>\n",
       "      <td>10.125</td>\n",
       "      <td>81.250</td>\n",
       "      <td>1.58</td>\n",
       "      <td>2.61</td>\n",
       "      <td>7.14</td>\n",
       "      <td>33.0</td>\n",
       "      <td>9.11</td>\n",
       "      <td>4.40</td>\n",
       "      <td>NaN</td>\n",
       "      <td>27.0</td>\n",
       "      <td>0.5870</td>\n",
       "      <td>Y</td>\n",
       "      <td>0</td>\n",
       "    </tr>\n",
       "    <tr>\n",
       "      <th>10018</th>\n",
       "      <td>3</td>\n",
       "      <td>40</td>\n",
       "      <td>2</td>\n",
       "      <td>1141</td>\n",
       "      <td>94</td>\n",
       "      <td>53</td>\n",
       "      <td>0.833333</td>\n",
       "      <td>0.041667</td>\n",
       "      <td>0.082384</td>\n",
       "      <td>0.046450</td>\n",
       "      <td>0.871166</td>\n",
       "      <td>0.385740</td>\n",
       "      <td>DT</td>\n",
       "      <td>74.88</td>\n",
       "      <td>293.0</td>\n",
       "      <td>23.4</td>\n",
       "      <td>4.79</td>\n",
       "      <td>31.500</td>\n",
       "      <td>9.375</td>\n",
       "      <td>76.375</td>\n",
       "      <td>1.68</td>\n",
       "      <td>2.79</td>\n",
       "      <td>7.23</td>\n",
       "      <td>29.0</td>\n",
       "      <td>9.02</td>\n",
       "      <td>4.37</td>\n",
       "      <td>NaN</td>\n",
       "      <td>29.0</td>\n",
       "      <td>0.5652</td>\n",
       "      <td>Y</td>\n",
       "      <td>0</td>\n",
       "    </tr>\n",
       "    <tr>\n",
       "      <th>89301</th>\n",
       "      <td>4</td>\n",
       "      <td>64</td>\n",
       "      <td>64</td>\n",
       "      <td>4237</td>\n",
       "      <td>304</td>\n",
       "      <td>288</td>\n",
       "      <td>1.000000</td>\n",
       "      <td>1.000000</td>\n",
       "      <td>0.071749</td>\n",
       "      <td>0.067973</td>\n",
       "      <td>0.860278</td>\n",
       "      <td>0.412509</td>\n",
       "      <td>OC</td>\n",
       "      <td>75.63</td>\n",
       "      <td>312.0</td>\n",
       "      <td>22.1</td>\n",
       "      <td>5.56</td>\n",
       "      <td>33.000</td>\n",
       "      <td>10.000</td>\n",
       "      <td>79.000</td>\n",
       "      <td>1.94</td>\n",
       "      <td>3.19</td>\n",
       "      <td>7.81</td>\n",
       "      <td>28.5</td>\n",
       "      <td>8.01</td>\n",
       "      <td>4.76</td>\n",
       "      <td>NaN</td>\n",
       "      <td>21.0</td>\n",
       "      <td>0.6800</td>\n",
       "      <td>Y</td>\n",
       "      <td>1</td>\n",
       "    </tr>\n",
       "    <tr>\n",
       "      <th>28799</th>\n",
       "      <td>4</td>\n",
       "      <td>63</td>\n",
       "      <td>21</td>\n",
       "      <td>1718</td>\n",
       "      <td>124</td>\n",
       "      <td>122</td>\n",
       "      <td>0.984375</td>\n",
       "      <td>0.328125</td>\n",
       "      <td>0.072177</td>\n",
       "      <td>0.071013</td>\n",
       "      <td>0.856810</td>\n",
       "      <td>0.364997</td>\n",
       "      <td>TE</td>\n",
       "      <td>77.63</td>\n",
       "      <td>255.0</td>\n",
       "      <td>23.0</td>\n",
       "      <td>4.94</td>\n",
       "      <td>32.125</td>\n",
       "      <td>9.500</td>\n",
       "      <td>77.375</td>\n",
       "      <td>1.75</td>\n",
       "      <td>2.89</td>\n",
       "      <td>6.90</td>\n",
       "      <td>31.5</td>\n",
       "      <td>9.02</td>\n",
       "      <td>4.25</td>\n",
       "      <td>11.84</td>\n",
       "      <td>16.0</td>\n",
       "      <td>0.6765</td>\n",
       "      <td>N</td>\n",
       "      <td>1</td>\n",
       "    </tr>\n",
       "    <tr>\n",
       "      <th>90244</th>\n",
       "      <td>3</td>\n",
       "      <td>24</td>\n",
       "      <td>3</td>\n",
       "      <td>348</td>\n",
       "      <td>39</td>\n",
       "      <td>33</td>\n",
       "      <td>0.500000</td>\n",
       "      <td>0.062500</td>\n",
       "      <td>0.112069</td>\n",
       "      <td>0.094828</td>\n",
       "      <td>0.793103</td>\n",
       "      <td>0.291681</td>\n",
       "      <td>DT</td>\n",
       "      <td>73.25</td>\n",
       "      <td>337.0</td>\n",
       "      <td>23.2</td>\n",
       "      <td>5.45</td>\n",
       "      <td>31.750</td>\n",
       "      <td>9.375</td>\n",
       "      <td>77.500</td>\n",
       "      <td>1.91</td>\n",
       "      <td>3.09</td>\n",
       "      <td>7.89</td>\n",
       "      <td>26.0</td>\n",
       "      <td>7.04</td>\n",
       "      <td>4.60</td>\n",
       "      <td>NaN</td>\n",
       "      <td>32.0</td>\n",
       "      <td>0.6667</td>\n",
       "      <td>Y</td>\n",
       "      <td>0</td>\n",
       "    </tr>\n",
       "    <tr>\n",
       "      <th>68164</th>\n",
       "      <td>4</td>\n",
       "      <td>51</td>\n",
       "      <td>20</td>\n",
       "      <td>1976</td>\n",
       "      <td>67</td>\n",
       "      <td>143</td>\n",
       "      <td>0.796875</td>\n",
       "      <td>0.312500</td>\n",
       "      <td>0.033907</td>\n",
       "      <td>0.072368</td>\n",
       "      <td>0.893725</td>\n",
       "      <td>0.283268</td>\n",
       "      <td>DS</td>\n",
       "      <td>71.50</td>\n",
       "      <td>206.0</td>\n",
       "      <td>22.0</td>\n",
       "      <td>4.56</td>\n",
       "      <td>31.750</td>\n",
       "      <td>9.500</td>\n",
       "      <td>76.000</td>\n",
       "      <td>1.60</td>\n",
       "      <td>2.63</td>\n",
       "      <td>6.72</td>\n",
       "      <td>37.5</td>\n",
       "      <td>10.06</td>\n",
       "      <td>4.22</td>\n",
       "      <td>11.94</td>\n",
       "      <td>15.0</td>\n",
       "      <td>0.4390</td>\n",
       "      <td>Y</td>\n",
       "      <td>0</td>\n",
       "    </tr>\n",
       "    <tr>\n",
       "      <th>20346</th>\n",
       "      <td>4</td>\n",
       "      <td>19</td>\n",
       "      <td>8</td>\n",
       "      <td>440</td>\n",
       "      <td>10</td>\n",
       "      <td>43</td>\n",
       "      <td>0.296875</td>\n",
       "      <td>0.125000</td>\n",
       "      <td>0.022727</td>\n",
       "      <td>0.097727</td>\n",
       "      <td>0.879545</td>\n",
       "      <td>0.140153</td>\n",
       "      <td>DC</td>\n",
       "      <td>70.13</td>\n",
       "      <td>185.0</td>\n",
       "      <td>22.4</td>\n",
       "      <td>4.50</td>\n",
       "      <td>29.125</td>\n",
       "      <td>9.000</td>\n",
       "      <td>69.000</td>\n",
       "      <td>1.56</td>\n",
       "      <td>2.60</td>\n",
       "      <td>6.97</td>\n",
       "      <td>34.5</td>\n",
       "      <td>9.10</td>\n",
       "      <td>4.03</td>\n",
       "      <td>11.58</td>\n",
       "      <td>19.0</td>\n",
       "      <td>0.7297</td>\n",
       "      <td>Y</td>\n",
       "      <td>0</td>\n",
       "    </tr>\n",
       "  </tbody>\n",
       "</table>\n",
       "</div>"
      ],
      "text/plain": [
       "       num_seasons  GamesPlayed  GamesStarted  Plays  PositivePlays  \\\n",
       "82000            4           61            52   2927            169   \n",
       "10081            4           52            48   1905            279   \n",
       "63510            4           51             3    845             65   \n",
       "10018            3           40             2   1141             94   \n",
       "89301            4           64            64   4237            304   \n",
       "28799            4           63            21   1718            124   \n",
       "90244            3           24             3    348             39   \n",
       "68164            4           51            20   1976             67   \n",
       "20346            4           19             8    440             10   \n",
       "\n",
       "       NegativePlays       GP%       GS%  PosPlay%  NegPlay%  NeutPlay%  \\\n",
       "82000             57  0.953125  0.812500  0.057738  0.019474   0.922788   \n",
       "10081            117  0.812500  0.750000  0.146457  0.061417   0.792126   \n",
       "63510             23  0.796875  0.046875  0.076923  0.027219   0.895858   \n",
       "10018             53  0.833333  0.041667  0.082384  0.046450   0.871166   \n",
       "89301            288  1.000000  1.000000  0.071749  0.067973   0.860278   \n",
       "28799            122  0.984375  0.328125  0.072177  0.071013   0.856810   \n",
       "90244             33  0.500000  0.062500  0.112069  0.094828   0.793103   \n",
       "68164            143  0.796875  0.312500  0.033907  0.072368   0.893725   \n",
       "20346             43  0.296875  0.125000  0.022727  0.097727   0.879545   \n",
       "\n",
       "          Score ProPosition    Hgt    Wgt   Age  Forty     Arm    Hand  \\\n",
       "82000  0.464880          WR  77.00  240.0  23.2   4.63  34.875  10.375   \n",
       "10081  0.484923          DT  75.88  336.0  21.3   5.28  33.125  10.125   \n",
       "63510  0.408908         OLB  75.38  255.0  21.5   4.58  34.500  10.125   \n",
       "10018  0.385740          DT  74.88  293.0  23.4   4.79  31.500   9.375   \n",
       "89301  0.412509          OC  75.63  312.0  22.1   5.56  33.000  10.000   \n",
       "28799  0.364997          TE  77.63  255.0  23.0   4.94  32.125   9.500   \n",
       "90244  0.291681          DT  73.25  337.0  23.2   5.45  31.750   9.375   \n",
       "68164  0.283268          DS  71.50  206.0  22.0   4.56  31.750   9.500   \n",
       "20346  0.140153          DC  70.13  185.0  22.4   4.50  29.125   9.000   \n",
       "\n",
       "         Wing  TenYard  TwentyYard  ThreeCone    VJ     BJ  TwentyShuttle  \\\n",
       "82000  84.000     1.67        2.68       7.33  32.5   9.11           4.39   \n",
       "10081  79.625     1.90        3.03       7.62  24.5    NaN           4.82   \n",
       "63510  81.250     1.58        2.61       7.14  33.0   9.11           4.40   \n",
       "10018  76.375     1.68        2.79       7.23  29.0   9.02           4.37   \n",
       "89301  79.000     1.94        3.19       7.81  28.5   8.01           4.76   \n",
       "28799  77.375     1.75        2.89       6.90  31.5   9.02           4.25   \n",
       "90244  77.500     1.91        3.09       7.89  26.0   7.04           4.60   \n",
       "68164  76.000     1.60        2.63       6.72  37.5  10.06           4.22   \n",
       "20346  69.000     1.56        2.60       6.97  34.5   9.10           4.03   \n",
       "\n",
       "       SixtyShuttle    BP  Test_Acc% IndyInvite  Success  \n",
       "82000         12.08  13.0     0.3333          Y        1  \n",
       "10081           NaN  19.0     0.9412          Y        1  \n",
       "63510           NaN  27.0     0.5870          Y        0  \n",
       "10018           NaN  29.0     0.5652          Y        0  \n",
       "89301           NaN  21.0     0.6800          Y        1  \n",
       "28799         11.84  16.0     0.6765          N        1  \n",
       "90244           NaN  32.0     0.6667          Y        0  \n",
       "68164         11.94  15.0     0.4390          Y        0  \n",
       "20346         11.58  19.0     0.7297          Y        0  "
      ]
     },
     "execution_count": 18,
     "metadata": {},
     "output_type": "execute_result"
    }
   ],
   "source": [
    "dataset.loc[list_of_val_players,:]"
   ]
  },
  {
   "cell_type": "code",
   "execution_count": 21,
   "metadata": {},
   "outputs": [
    {
     "data": {
      "text/plain": [
       "count    1446.000000\n",
       "mean        0.322457\n",
       "std         0.133960\n",
       "min        -0.671250\n",
       "25%         0.254648\n",
       "50%         0.321096\n",
       "75%         0.396471\n",
       "max         0.955000\n",
       "Name: Score, dtype: float64"
      ]
     },
     "execution_count": 21,
     "metadata": {},
     "output_type": "execute_result"
    }
   ],
   "source": [
    "dataset.Score.describe()"
   ]
  },
  {
   "cell_type": "code",
   "execution_count": null,
   "metadata": {},
   "outputs": [],
   "source": []
  }
 ],
 "metadata": {
  "kernelspec": {
   "display_name": "venv_3.8.18",
   "language": "python",
   "name": "python3"
  },
  "language_info": {
   "codemirror_mode": {
    "name": "ipython",
    "version": 3
   },
   "file_extension": ".py",
   "mimetype": "text/x-python",
   "name": "python",
   "nbconvert_exporter": "python",
   "pygments_lexer": "ipython3",
   "version": "3.8.18"
  }
 },
 "nbformat": 4,
 "nbformat_minor": 2
}
